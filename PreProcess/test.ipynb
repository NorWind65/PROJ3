{
 "cells": [
  {
   "cell_type": "code",
   "execution_count": 12,
   "metadata": {},
   "outputs": [],
   "source": [
    "import pandas as pd\n",
    "import json\n",
    "from datetime import timedelta\n",
    "import datetime "
   ]
  },
  {
   "cell_type": "code",
   "execution_count": 13,
   "metadata": {},
   "outputs": [],
   "source": [
    "df_AISEC = pd.read_csv(r'D:\\CFI\\SAMPLE DATA\\AISEC-HNX_2024-07-26.csv', header= None)\n",
    "df_VPS = pd.read_csv(r'D:\\CFI\\SAMPLE DATA\\VPS-HNX_2024-07-26.csv', header= None)\n",
    "    "
   ]
  },
  {
   "cell_type": "code",
   "execution_count": 14,
   "metadata": {},
   "outputs": [],
   "source": [
    "data = pd.concat([ df_AISEC , df_VPS] , axis= 'index').sort_values(0)"
   ]
  },
  {
   "cell_type": "code",
   "execution_count": 15,
   "metadata": {},
   "outputs": [],
   "source": [
    "result = list()\n",
    "for x in data.values:\n",
    "        try:\n",
    "            data = json.loads(x[3][2:])\n",
    "            data.append( x[1])\n",
    "            result.append(data)\n",
    "        except:\n",
    "            pass"
   ]
  },
  {
   "cell_type": "code",
   "execution_count": 9,
   "metadata": {},
   "outputs": [],
   "source": [
    "dtF = pd.concat([\n",
    "    pd.Series( name= 'source', data= ( x[2] for x in result ) ),\n",
    "    pd.Series( name= 'msgtype', data= ( x[0] for x in result ) ),\n",
    "    pd.json_normalize( ( x[1] for x in result) )\n",
    "], axis= 1)\n"
   ]
  },
  {
   "cell_type": "code",
   "execution_count": 10,
   "metadata": {},
   "outputs": [],
   "source": [
    "tmp = dtF.loc[ : , ['source','msgtype','data.sym','data.lastVol','data.lastPrice','data.totalVol','data.time','data.timeServer']]\n"
   ]
  },
  {
   "cell_type": "code",
   "execution_count": 11,
   "metadata": {},
   "outputs": [],
   "source": [
    "dt_board = dtF.loc [ :, ['source','msgtype','data.sym','data.g1','data.g2','data.g3','data.timeServer','data.BVolume' , 'data.SVolume' , 'data.Total', 'data.AvePrice']]"
   ]
  }
 ],
 "metadata": {
  "kernelspec": {
   "display_name": "Python 3",
   "language": "python",
   "name": "python3"
  },
  "language_info": {
   "codemirror_mode": {
    "name": "ipython",
    "version": 3
   },
   "file_extension": ".py",
   "mimetype": "text/x-python",
   "name": "python",
   "nbconvert_exporter": "python",
   "pygments_lexer": "ipython3",
   "version": "3.12.8"
  }
 },
 "nbformat": 4,
 "nbformat_minor": 2
}
